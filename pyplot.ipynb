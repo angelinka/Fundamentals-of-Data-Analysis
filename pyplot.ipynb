{
 "cells": [
  {
   "cell_type": "markdown",
   "id": "c313b59d",
   "metadata": {},
   "source": [
    "# Overview of matplotlib.pyplot Python package"
   ]
  },
  {
   "cell_type": "markdown",
   "id": "7e938237",
   "metadata": {},
   "source": [
    "**Matplotlib** is a plotting library for creating static, animated, and interactive visualizations in Python. Matplotlib can be used in Python scripts, the Python and IPython shell, web application servers, and various graphical user interface toolkits like Tkinter, awxPython, etc. \n",
    "\n",
    "### Pyplot\n",
    "**Pyplot** is a Matplotlib module which provides a MATLAB-like interface. Matplotlib is designed to be as usable as MATLAB, with the ability to use Python and the advantage of being free and open-source. Each pyplot function makes some change to a figure: e.g., creates a figure, creates a plotting area in a figure, plots some lines in a plotting area, decorates the plot with labels, etc. The various plots we can utilize using Pyplot are **Line Plot, Histogram, Scatter, 3D Plot, Image, Contour,** and **Polar.** [1]\n",
    "\n",
    "[1] GeeksforGeeks. Pyplot in Matplotlib https://www.geeksforgeeks.org/pyplot-in-matplotlib/"
   ]
  },
  {
   "cell_type": "code",
   "execution_count": null,
   "id": "25a7b2c9",
   "metadata": {},
   "outputs": [],
   "source": [
    "import numpy as np\n",
    "import matplotlib.pyplot as plt"
   ]
  }
 ],
 "metadata": {
  "kernelspec": {
   "display_name": "Python 3 (ipykernel)",
   "language": "python",
   "name": "python3"
  },
  "language_info": {
   "codemirror_mode": {
    "name": "ipython",
    "version": 3
   },
   "file_extension": ".py",
   "mimetype": "text/x-python",
   "name": "python",
   "nbconvert_exporter": "python",
   "pygments_lexer": "ipython3",
   "version": "3.8.11"
  }
 },
 "nbformat": 4,
 "nbformat_minor": 5
}
