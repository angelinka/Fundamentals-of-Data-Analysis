{
 "cells": [
  {
   "cell_type": "markdown",
   "id": "c313b59d",
   "metadata": {},
   "source": [
    "# Overview of matplotlib.pyplot Python package"
   ]
  },
  {
   "cell_type": "markdown",
   "id": "7e938237",
   "metadata": {},
   "source": [
    "**Matplotlib** is a plotting library for creating static, animated, and interactive visualizations in Python. Matplotlib can be used in Python scripts, the Python and IPython shell, web application servers, and various graphical user interface toolkits like Tkinter, awxPython, etc. \n",
    "\n",
    "**Pyplot** is a Matplotlib module which provides a MATLAB-like interface. Matplotlib is designed to be as usable as MATLAB, with the ability to use Python and the advantage of being free and open-source. Each pyplot function makes some change to a figure: e.g., creates a figure, creates a plotting area in a figure, plots some lines in a plotting area, decorates the plot with labels, etc. The various plots we can utilize using Pyplot are **Line Plot, Histogram, Scatter, 3D Plot, Image, Contour,** and **Polar.** [1]\n",
    "\n",
    "Let's have a look on how it works using some simple examples."
   ]
  },
  {
   "cell_type": "markdown",
   "id": "8d005379",
   "metadata": {},
   "source": [
    "## Creating plots with matplotlib"
   ]
  },
  {
   "cell_type": "code",
   "execution_count": 1,
   "id": "2c9554f9",
   "metadata": {},
   "outputs": [
    {
     "ename": "SyntaxError",
     "evalue": "invalid syntax (2244829707.py, line 4)",
     "output_type": "error",
     "traceback": [
      "\u001b[0;36m  File \u001b[0;32m\"/var/folders/r1/w5vc1f3s7pz3sdvf250n5qtm0000gn/T/ipykernel_5277/2244829707.py\"\u001b[0;36m, line \u001b[0;32m4\u001b[0m\n\u001b[0;31m    HTML('''<script>\u001b[0m\n\u001b[0m                    ^\u001b[0m\n\u001b[0;31mSyntaxError\u001b[0m\u001b[0;31m:\u001b[0m invalid syntax\n"
     ]
    }
   ],
   "source": [
    "'''\n",
    "from IPython.display import HTML\n",
    "\n",
    "HTML('''<script>\n",
    "code_show=true; \n",
    "function code_toggle() {\n",
    " if (code_show){\n",
    " $('div.input').hide();\n",
    " } else {\n",
    " $('div.input').show();\n",
    " }\n",
    " code_show = !code_show\n",
    "} \n",
    "$( document ).ready(code_toggle);\n",
    "</script>\n",
    "<form action=\"javascript:code_toggle()\"><input type=\"submit\" value=\"Click here to toggle on/off the raw code.\"></form>''')\n",
    "'''"
   ]
  },
  {
   "cell_type": "code",
   "execution_count": null,
   "id": "25a7b2c9",
   "metadata": {},
   "outputs": [],
   "source": [
    "'''First, impoting numpy to add additional functionality to our code (simplify working with arrays, use random \n",
    "number generator, ect) and matplotlib.pyplot modules be able to plot'''\n",
    "\n",
    "import numpy as np\n",
    "import matplotlib.pyplot as plt"
   ]
  },
  {
   "cell_type": "markdown",
   "id": "1f6a6646",
   "metadata": {},
   "source": [
    "As example I'm going to use * *sin* * and * *cos* * functions on the same plot, starting with very simple plot using default settings and gradually modify it to enrich the figure and make it look nicer, which should provide a good overview of pyplot functionality. However, as pyplot package is very extensive it will not be practical to cover it in full and additional information about it can easily be found online, including official site https://matpotlib.org\n",
    "\n",
    "### 1.1 Creating a plot with default settings\n",
    "\n",
    "First step is to get the data for the sine and cosine functions. Let **X** be a numpy array with 256 values ranging from -π to +π (included). **C** is the cosine (256 values) and **S** is the sine (256 values). [2]"
   ]
  },
  {
   "cell_type": "code",
   "execution_count": null,
   "id": "dadf4828",
   "metadata": {},
   "outputs": [],
   "source": [
    "X = np.linspace(-np.pi, np.pi, 256)\n",
    "C, S = np.cos(X), np.sin(X)\n",
    "\n",
    "plt.plot(X, C)\n",
    "plt.plot(X, S)\n",
    "\n",
    "plt.show()"
   ]
  },
  {
   "cell_type": "markdown",
   "id": "773bf851",
   "metadata": {},
   "source": [
    "### 1.2 Applying custom settings\n",
    "\n",
    "#### Changing colors and line widths\n",
    "\n",
    "It is very easy to customise how the plot will look like with matplotlib, the possibilities are almost endless. Here I'll just provide a few examples for the most frequently used settings.\n",
    "\n",
    "We can change the size of the the figure to make it more horizontal. A **\"figure\"** in matplotlib means the whole window in the user interface. Also, lets change cosine line colour to blue dashes and the sine to red semicolum and make a slighty thicker line for both of them. [3]"
   ]
  },
  {
   "cell_type": "code",
   "execution_count": null,
   "id": "c33f6f96",
   "metadata": {},
   "outputs": [],
   "source": [
    "plt.figure(figsize=(10, 6), dpi=80)\n",
    "\n",
    "X = np.linspace(-np.pi, np.pi, 256)\n",
    "S = np.sin(X)\n",
    "C = np.cos(X)\n",
    "\n",
    "plt.plot(X, C, color=\"blue\", linewidth=2.5, linestyle=\"--\")\n",
    "plt.plot(X, S, color=\"red\",  linewidth=2.5, linestyle=\":\")\n",
    "\n",
    "plt.show()"
   ]
  },
  {
   "cell_type": "markdown",
   "id": "a41b8c9a",
   "metadata": {},
   "source": [
    "#### Setting ticks\n",
    "\n",
    "Current ticks are not ideal because they do not show the interesting values (+/-π,+/-π/2) for sine and cosine. We’ll change them such that they show only these values.\n",
    "\n",
    "More information can be found:\n",
    "[xticks()](https://matplotlib.org/stable/api/_as_gen/matplotlib.pyplot.xticks.html)\n",
    "[yticks()](https://matplotlib.org/stable/api/_as_gen/matplotlib.pyplot.yticks.html)"
   ]
  },
  {
   "cell_type": "code",
   "execution_count": null,
   "id": "45e5fd43",
   "metadata": {},
   "outputs": [],
   "source": [
    "plt.figure(figsize=(8, 5), dpi=80)\n",
    "\n",
    "X = np.linspace(-np.pi, np.pi, 256)\n",
    "S = np.sin(X)\n",
    "C = np.cos(X)\n",
    "\n",
    "plt.plot(X, C, color=\"blue\", linewidth=2.5, linestyle=\"--\")\n",
    "plt.plot(X, S, color=\"red\",  linewidth=2.5, linestyle=\":\")\n",
    "\n",
    "plt.xticks([-np.pi, -np.pi/2, 0, np.pi/2, np.pi])\n",
    "plt.yticks([-1, 0, +1])\n",
    "\n",
    "plt.show()"
   ]
  },
  {
   "cell_type": "markdown",
   "id": "7239e7a2",
   "metadata": {},
   "source": [
    "#### Using tick labels\n",
    "\n",
    "Now ticks values make more sense and it's much easier to see the important values in our plot, but it would be better to make it even more explicit and instead of for example 3.142 value on the x-aces to show π. For that purpose we can use tick labels. When we set tick values, we can also provide a corresponding label in the second argument list. Note that we’ll use LaTeX to allow for nice rendering of the label.\n",
    "\n",
    "More information can be found:\n",
    "[Writing mathematical expressions](https://matplotlib.org/stable/tutorials/text/mathtext.html)\n",
    "[Text rendering with LaTeX](https://matplotlib.org/stable/tutorials/text/usetex.html)"
   ]
  },
  {
   "cell_type": "code",
   "execution_count": null,
   "id": "6128b668",
   "metadata": {},
   "outputs": [],
   "source": [
    "plt.figure(figsize=(8, 5), dpi=80)\n",
    "\n",
    "X = np.linspace(-np.pi, np.pi, 256)\n",
    "C = np.cos(X)\n",
    "S = np.sin(X)\n",
    "\n",
    "plt.plot(X, C, color=\"blue\", linewidth=2.5, linestyle=\"--\")\n",
    "plt.plot(X, S, color=\"red\",  linewidth=2.5, linestyle=\":\")\n",
    "\n",
    "plt.xticks([-np.pi, -np.pi/2, 0, np.pi/2, np.pi],\n",
    "          [r'$-\\pi$', r'$-\\pi/2$', r'$0$', r'$+\\pi/2$', r'$+\\pi$'])\n",
    "\n",
    "plt.yticks([-1, 0, +1],\n",
    "          [r'$-1$', r'$0$', r'$+1$'])\n",
    "\n",
    "plt.show()\n"
   ]
  },
  {
   "cell_type": "markdown",
   "id": "3cf1c721",
   "metadata": {},
   "source": [
    "#### Moving spines\n",
    "\n",
    "Spines are the lines connecting the axis tick marks and noting the boundaries of the data area. They can be placed at arbitrary positions as a default on our plot they were on the border of the axis. It would be looking nicer if we can place them in the middle, so we going to change that below.\n",
    "Since there are four of them (top/bottom/left/right), we’ll discard the top and right by setting their color to none and we’ll move the bottom and left ones to coordinate 0 in data space coordinates.\n",
    "\n",
    "More information can be found:\n",
    "[matplotlib.spines](https://matplotlib.org/stable/api/spines_api.html)"
   ]
  },
  {
   "cell_type": "code",
   "execution_count": null,
   "id": "959e5095",
   "metadata": {},
   "outputs": [],
   "source": [
    "plt.figure(figsize=(8, 5), dpi=80)\n",
    "\n",
    "X = np.linspace(-np.pi, np.pi, 256)\n",
    "C = np.cos(X)\n",
    "S = np.sin(X)\n",
    "\n",
    "plt.plot(X, C, color=\"blue\", linewidth=2.5, linestyle=\"--\")\n",
    "plt.plot(X, S, color=\"red\",  linewidth=2.5, linestyle=\":\")\n",
    "\n",
    "ax = plt.gca()  # gca stands for 'get current axis'\n",
    "ax.spines['right'].set_color('none')\n",
    "ax.spines['top'].set_color('none')\n",
    "ax.xaxis.set_ticks_position('bottom')\n",
    "ax.spines['bottom'].set_position(('data',0))\n",
    "ax.yaxis.set_ticks_position('left')\n",
    "ax.spines['left'].set_position(('data',0))\n",
    "\n",
    "plt.xticks([-np.pi, -np.pi/2, 0, np.pi/2, np.pi],\n",
    "          [r'$-\\pi$', r'$-\\pi/2$', r'$0$', r'$+\\pi/2$', r'$+\\pi$'])\n",
    "\n",
    "plt.yticks([-1, 0, +1],\n",
    "          [r'$-1$', r'$0$', r'$+1$'])\n",
    "\n",
    "plt.show()"
   ]
  },
  {
   "cell_type": "markdown",
   "id": "c1b327ea",
   "metadata": {},
   "source": [
    "#### Adding a legend\n",
    "\n",
    "As a last step for this short overview of matplotlib module we can add a legend in the upper left corner. This only requires adding the keyword argument label (that will be used in the legend box) to the plot commands."
   ]
  },
  {
   "cell_type": "code",
   "execution_count": null,
   "id": "88edf589",
   "metadata": {},
   "outputs": [],
   "source": []
  },
  {
   "cell_type": "code",
   "execution_count": null,
   "id": "03fd4839",
   "metadata": {},
   "outputs": [],
   "source": [
    "plt.figure(figsize=(8, 5), dpi=80)\n",
    "\n",
    "X = np.linspace(-np.pi, np.pi, 256)\n",
    "C = np.cos(X)\n",
    "S = np.sin(X)\n",
    "\n",
    "plt.plot(X, C, color=\"blue\", linewidth=2.5, linestyle=\"--\", label=\"cosine\")\n",
    "plt.plot(X, S, color=\"red\",  linewidth=2.5, linestyle=\":\", label=\"sine\")\n",
    "\n",
    "ax = plt.gca()  # gca stands for 'get current axis'\n",
    "ax.spines['right'].set_color('none')\n",
    "ax.spines['top'].set_color('none')\n",
    "ax.xaxis.set_ticks_position('bottom')\n",
    "ax.spines['bottom'].set_position(('data',0))\n",
    "ax.yaxis.set_ticks_position('left')\n",
    "ax.spines['left'].set_position(('data',0))\n",
    "\n",
    "plt.xticks([-np.pi, -np.pi/2, 0, np.pi/2, np.pi],\n",
    "          [r'$-\\pi$', r'$-\\pi/2$', r'$0$', r'$+\\pi/2$', r'$+\\pi$'])\n",
    "\n",
    "plt.yticks([-1, 0, +1],\n",
    "          [r'$-1$', r'$0$', r'$+1$'])\n",
    "\n",
    "plt.legend(loc='upper left')\n",
    "\n",
    "plt.show()"
   ]
  },
  {
   "cell_type": "markdown",
   "id": "8cf45218",
   "metadata": {},
   "source": [
    "### 1.3 Other plots examples\n",
    "\n",
    "#### 1.3.1 'bmh' style sheet\n",
    "\n",
    "Below we going to look how to create some other types of plots with Matplotlib. As a first example, lets have a look on how to create a histogram.\n",
    "\n",
    "Following example taken from [matplotlib gallery](https://matplotlib.org/2.0.2/examples/style_sheets/plot_bmh.html)\n",
    "Slight modification to the code has been made(figsize has been changed as well as normed parameter has been changed to density as it has been deprecated, comments added)"
   ]
  },
  {
   "cell_type": "code",
   "execution_count": null,
   "id": "7818b67d",
   "metadata": {},
   "outputs": [],
   "source": [
    "\"\"\"\n",
    "========================================\n",
    "Bayesian Methods for Hackers style sheet\n",
    "========================================\n",
    "\n",
    "This example demonstrates the style used in the Bayesian Methods for Hackers online book.\n",
    "\n",
    "\"\"\"\n",
    "#Impoting Beta distribution from numpy.random module (a)\n",
    "from numpy.random import beta\n",
    "import matplotlib.pyplot as plt\n",
    "\n",
    "\"\"\"Setting style of the plot globally to 'bmh' This style particularly suits scientific graphing \n",
    "by showing the precision of the plot.\"\"\"\n",
    "plt.style.use('bmh')\n",
    "\n",
    "#Defining function plot_beta_hist (b)\n",
    "def plot_beta_hist(ax, a, b):\n",
    "    ax.hist(beta(a, b, size=10000), histtype=\"stepfilled\",\n",
    "            bins=25, alpha=0.8, density=True)\n",
    "\n",
    "#Plotting several plots on one set of axes. Also modifing the size of the whole plot to make it bigger (c)\n",
    "fig, ax = plt.subplots(figsize=(12,8), dpi=80)\n",
    "\n",
    "plot_beta_hist(ax, 10, 10)\n",
    "plot_beta_hist(ax, 4, 12)\n",
    "plot_beta_hist(ax, 50, 12)\n",
    "plot_beta_hist(ax, 6, 55)\n",
    "\n",
    "# Giving title to the plot\n",
    "ax.set_title(\"'bmh' style sheet\")\n",
    "\n",
    "plt.show()"
   ]
  },
  {
   "cell_type": "markdown",
   "id": "316a4813",
   "metadata": {},
   "source": [
    "a) Beta distribution is a special case of the Dirichlet distribution. It is often seen in Bayesian inference and order statistics.\n",
    "Please refer to [numpy.org](https://numpy.org/doc/stable/reference/random/generated/numpy.random.beta.html) and \n",
    "[WikipediA](https://en.wikipedia.org/wiki/Beta_distribution) for more information\n",
    "\n",
    "b) Function plot_beta_hist contains three parameters ax, a, b.\n",
    "\n",
    "We are setting ax parameter of a function as histogram of beta distribution with the following parameters:\n",
    "\n",
    "**a:** float or array_like of floats. Alpha, positive (>0).  \n",
    "**b:** float or array_like of floats. Beta, positive (>0).  \n",
    "**size:** int or tuple of ints  \n",
    "**histtype:** The type of histogram to draw. 'stepfilled' generates a lineplot that is by default filled.  \n",
    "**bins:** int or sequence or str, default: rcParams[\"hist.bins\"] (default: 10)  \n",
    "If bins is an integer, it defines the number of equal-width bins in the range.  \n",
    "**alpha:** transparency  \n",
    "**density:** bool, default: False. If True, draw and return a probability density: each bin will display the bin's raw count divided by the total number of counts and the bin width so that the area under the histogram integrates to 1.\n",
    "[matplotlib.pyplot.hist](https://matplotlib.org/stable/api/_as_gen/matplotlib.pyplot.hist.html)\n",
    "\n",
    "c) The matplotlib.pyplot.subplots method provides a way to plot multiple plots on a single figure. Given the number of rows and columns, it returns a tuple (fig, ax), giving a single figure fig with an array of axes ax.  \n",
    "**ax:** A single object of the axes.Axes object if there is only one plot, or an array of axes.Axes objects if there are multiple plots"
   ]
  },
  {
   "cell_type": "markdown",
   "id": "52328e22",
   "metadata": {},
   "source": [
    "#### 1.3.2 Bar chart on polar axis\n",
    "\n",
    "Next example is a bar chart taken again from [matplotlib.org](https://matplotlib.org/stable/gallery/pie_and_polar_charts/polar_bar.html#sphx-glr-gallery-pie-and-polar-charts-polar-bar-py)"
   ]
  },
  {
   "cell_type": "code",
   "execution_count": null,
   "id": "a1bc5326",
   "metadata": {},
   "outputs": [],
   "source": [
    "import numpy as np\n",
    "import matplotlib.pyplot as plt\n",
    "\n",
    "\n",
    "# Fixing random state for reproducibility (a)\n",
    "np.random.seed(19680801)\n",
    "\n",
    "# Compute pie slices (b)\n",
    "N = 20\n",
    "# Setting up parameters of the plot\n",
    "theta = np.linspace(0.0, 2 * np.pi, N, endpoint=False)\n",
    "radii = 10 * np.random.rand(N)\n",
    "width = np.pi / 4 * np.random.rand(N)\n",
    "colors = plt.cm.viridis(radii / 10.)\n",
    "\n",
    "# Specifing type of the plot to be polar\n",
    "fig = plt.figure(figsize=(8,8))\n",
    "#fig, ax = plt.subplot(figsize=(12,8), projection='polar')\n",
    "ax = plt.subplot(projection='polar')\n",
    "# Passing all required parameters to build bar chart on polar axis\n",
    "ax.bar(theta, radii, width=width, bottom=0.0, color=colors, alpha=0.5)\n",
    "\n",
    "plt.show()"
   ]
  },
  {
   "cell_type": "markdown",
   "id": "4dadc207",
   "metadata": {},
   "source": []
  },
  {
   "cell_type": "code",
   "execution_count": null,
   "id": "a461e266",
   "metadata": {},
   "outputs": [],
   "source": []
  },
  {
   "cell_type": "code",
   "execution_count": null,
   "id": "3a0392ac",
   "metadata": {},
   "outputs": [],
   "source": []
  },
  {
   "cell_type": "code",
   "execution_count": null,
   "id": "65a12032",
   "metadata": {},
   "outputs": [],
   "source": []
  },
  {
   "cell_type": "markdown",
   "id": "89e84022",
   "metadata": {},
   "source": [
    "### Web resources used:\n",
    "\n",
    "1. [GeeksforGeeks. Pyplot in Matplotlib](https://www.geeksforgeeks.org/pyplot-in-matplotlib/)\n",
    "2. [Scipy Lecture Notes](https://scipy-lectures.org/intro/matplotlib/index.html)\n",
    "3. [matplotlib.org](https://matplotlib.org/stable/tutorials/introductory/pyplot.html#sphx-glr-tutorials-introductory-pyplot-py)\n",
    "4. [stackoverflow How to hide code from cells](https://stackoverflow.com/questions/27934885/how-to-hide-code-from-cells-in-ipython-notebook-visualized-with-nbviewer)\n",
    "5. [Bayesian Methods for Hackers online book](http://camdavidsonpilon.github.io/Probabilistic-Programming-and-Bayesian-Methods-for-Hackers/)\n",
    "\n"
   ]
  },
  {
   "cell_type": "code",
   "execution_count": null,
   "id": "b0c5f88e",
   "metadata": {},
   "outputs": [],
   "source": []
  }
 ],
 "metadata": {
  "kernelspec": {
   "display_name": "Python 3 (ipykernel)",
   "language": "python",
   "name": "python3"
  },
  "language_info": {
   "codemirror_mode": {
    "name": "ipython",
    "version": 3
   },
   "file_extension": ".py",
   "mimetype": "text/x-python",
   "name": "python",
   "nbconvert_exporter": "python",
   "pygments_lexer": "ipython3",
   "version": "3.8.11"
  }
 },
 "nbformat": 4,
 "nbformat_minor": 5
}
