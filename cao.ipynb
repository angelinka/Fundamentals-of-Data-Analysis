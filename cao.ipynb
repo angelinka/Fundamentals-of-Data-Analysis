{
 "cells": [
  {
   "cell_type": "markdown",
   "id": "71f378d3-651d-4b3f-bf6f-f7e895be6b63",
   "metadata": {},
   "source": [
    "# CAO points analysis in 2019 - 2021  \n",
    "\n",
    "http://www2.cao.ie/points/l8.php\n",
    "\n",
    "The Central Applications Office processes applications for undergraduate courses in Irish Higher Education Institutions (HEIs)."
   ]
  },
  {
   "cell_type": "code",
   "execution_count": 1,
   "id": "1efe6ccd-fcfe-4277-b435-1c5583441cd0",
   "metadata": {},
   "outputs": [],
   "source": [
    "# Convenient HTTP requests.\n",
    "import requests as rq\n",
    "\n",
    "# Regular expressions.\n",
    "import re\n",
    "\n",
    "# Dates and times.\n",
    "import datetime as dt"
   ]
  },
  {
   "cell_type": "code",
   "execution_count": 2,
   "id": "615d07e7-c3c3-4a9c-8534-04601cd6782b",
   "metadata": {},
   "outputs": [],
   "source": [
    "# Get the current date and time.\n",
    "now = dt.datetime.now()\n",
    "\n",
    "# Format as a string.\n",
    "nowstr = now.strftime('%Y%m%d_%H%M%S')"
   ]
  },
  {
   "cell_type": "markdown",
   "id": "fd168114-c993-46f0-8b04-c7126d50ba9e",
   "metadata": {},
   "source": [
    "<br>\n",
    "\n",
    "## 2021 Points\n",
    "\n",
    "Taken from [cao.ie](http://www2.cao.ie/points/l8.php)\n",
    "***"
   ]
  },
  {
   "cell_type": "code",
   "execution_count": 3,
   "id": "b496a38d-7319-4ef7-a0f8-bf32587c704a",
   "metadata": {},
   "outputs": [
    {
     "data": {
      "text/plain": [
       "<Response [200]>"
      ]
     },
     "execution_count": 3,
     "metadata": {},
     "output_type": "execute_result"
    }
   ],
   "source": [
    "# Fetch the CAO points URL.\n",
    "resp = rq.get('http://www2.cao.ie/points/l8.php')\n",
    "\n",
    "# Testing of we getting expected response (200 means OK).\n",
    "resp"
   ]
  },
  {
   "cell_type": "markdown",
   "id": "c893d3fe-1c4a-41a8-86a8-03e2f8f6475e",
   "metadata": {},
   "source": [
    "<br>\n",
    "\n",
    "## Save original data set\n",
    "***"
   ]
  },
  {
   "cell_type": "code",
   "execution_count": 4,
   "id": "3294126f-9ed2-477b-b0cb-aa70704b0d2b",
   "metadata": {},
   "outputs": [],
   "source": [
    "# Create a file path for the original data.\n",
    "pathhtml = 'data/cao2021_' + nowstr + '.html'"
   ]
  },
  {
   "cell_type": "markdown",
   "id": "429ec7f6-384d-4da0-a55a-e8d75ad83b44",
   "metadata": {},
   "source": [
    "### Fixing encoding error\n",
    "\n",
    "If we inspect the page in hte browser, server says we should decode as per:  \n",
    "\n",
    "```\n",
    "Content-Type: text/html; charset=iso-8859-1\n",
    "```\n",
    "     \n",
    "However, one line uses #x96 character which isn't defined in iso-8859-1.\n",
    "Therefore to fix this issue we going to use very similar standart cp1252,\n",
    "which includes #x96 character"
   ]
  },
  {
   "cell_type": "code",
   "execution_count": 5,
   "id": "871f26d4-3d4e-4166-ac46-2f1a1d775c9b",
   "metadata": {},
   "outputs": [],
   "source": [
    "# The server uses the wrong encoding, fix it.\n",
    "original_encoding = resp.encoding\n",
    "\n",
    "# Change to cp1252.\n",
    "resp.encoding = 'cp1252'"
   ]
  },
  {
   "cell_type": "code",
   "execution_count": 6,
   "id": "2268c96f-1b62-45ea-86ac-5bb6638351e7",
   "metadata": {},
   "outputs": [],
   "source": [
    "# Save the original html file.\n",
    "with open(pathhtml, 'w') as f:\n",
    "    f.write(resp.text)"
   ]
  },
  {
   "cell_type": "markdown",
   "id": "0b76f4b8-b073-4841-afb7-58fec16478d6",
   "metadata": {},
   "source": [
    "<br>\n",
    "\n",
    "## Loop through the lines of the response\n",
    "***"
   ]
  },
  {
   "cell_type": "code",
   "execution_count": 7,
   "id": "58fadf27-ea52-4479-9f8a-c9f91a717fda",
   "metadata": {},
   "outputs": [],
   "source": [
    "# The file path for the csv file.\n",
    "path2021 = 'data/cao2021_csv_' + nowstr + '.csv'"
   ]
  },
  {
   "cell_type": "code",
   "execution_count": 8,
   "id": "0a1a18ee-8efd-4744-890b-ef2eb538a08d",
   "metadata": {},
   "outputs": [
    {
     "name": "stdout",
     "output_type": "stream",
     "text": [
      "Total number of lines is 922.\n"
     ]
    }
   ],
   "source": [
    "# Using regular expression to select lines that we need.\n",
    "#re_course = re.compile(r'([A-Z]{2}[0-9]{3})(.*)')\n",
    "re_course = re.compile(r'([A-Z]{2}[0-9]{3})  (.*)([0-9]{3})(\\*?) *')\n",
    "no_lines = 0\n",
    "\n",
    "# Open the csv file for writing.\n",
    "with open(path2021, 'w') as f:\n",
    "    # Loop through the lines of the response content\n",
    "    for line in resp.iter_lines():\n",
    "        # Decode the line, using the wrong encoding!\n",
    "        dline = line.decode('cp1252')\n",
    "        # Match only the lines representing courses\n",
    "        if re_course.fullmatch(dline):\n",
    "            # Add one to the lines counter.\n",
    "            no_lines += 1\n",
    "            # Split the line on two or more spaces\n",
    "            linesplit = re.split('  +', dline)\n",
    "            # Rejoin the substrings with commas in between.\n",
    "            f.write(','.join(linesplit) + '\\n')\n",
    "            # Pick out relevant parts of the matched line\n",
    "            #csv_version = re_course.sub(r'\\1,\\2,\\3,\\4', dline)\n",
    "            #print(csv_version)\n",
    "print (f'Total number of lines is {no_lines}.')"
   ]
  },
  {
   "cell_type": "code",
   "execution_count": null,
   "id": "6ec67907-6b15-4fb1-ab41-3bd299fa995d",
   "metadata": {},
   "outputs": [],
   "source": []
  },
  {
   "cell_type": "code",
   "execution_count": null,
   "id": "743d3322-c5b3-47a8-8af5-084cc74d929b",
   "metadata": {},
   "outputs": [],
   "source": []
  },
  {
   "cell_type": "code",
   "execution_count": null,
   "id": "6b305814-e56a-4c38-849d-82c4423441cf",
   "metadata": {},
   "outputs": [],
   "source": []
  },
  {
   "cell_type": "code",
   "execution_count": null,
   "id": "66001aad-0158-4cf6-8a04-24adaa08d148",
   "metadata": {},
   "outputs": [],
   "source": []
  },
  {
   "cell_type": "code",
   "execution_count": null,
   "id": "14bba089-204f-4204-bc43-4ccc9a7aea96",
   "metadata": {},
   "outputs": [],
   "source": []
  },
  {
   "cell_type": "code",
   "execution_count": null,
   "id": "bed4e76d-b6ee-4829-891b-e3b759738a70",
   "metadata": {},
   "outputs": [],
   "source": []
  },
  {
   "cell_type": "code",
   "execution_count": null,
   "id": "261fcd39-aec2-4286-bfb1-1807d39d6ad0",
   "metadata": {},
   "outputs": [],
   "source": []
  },
  {
   "cell_type": "code",
   "execution_count": null,
   "id": "de948485-40ca-47a3-8ae0-d54416f2bc61",
   "metadata": {},
   "outputs": [],
   "source": []
  }
 ],
 "metadata": {
  "kernelspec": {
   "display_name": "Python 3 (ipykernel)",
   "language": "python",
   "name": "python3"
  },
  "language_info": {
   "codemirror_mode": {
    "name": "ipython",
    "version": 3
   },
   "file_extension": ".py",
   "mimetype": "text/x-python",
   "name": "python",
   "nbconvert_exporter": "python",
   "pygments_lexer": "ipython3",
   "version": "3.8.11"
  }
 },
 "nbformat": 4,
 "nbformat_minor": 5
}
