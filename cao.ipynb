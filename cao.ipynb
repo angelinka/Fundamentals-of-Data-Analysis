{
 "cells": [
  {
   "cell_type": "markdown",
   "id": "71f378d3-651d-4b3f-bf6f-f7e895be6b63",
   "metadata": {},
   "source": [
    "# CAO points analysis in 2019 - 2021  \n",
    "\n",
    "\n",
    "The Central Applications Office processes applications for undergraduate courses in Irish Higher Education Institutions (HEIs)."
   ]
  },
  {
   "cell_type": "code",
   "execution_count": 1,
   "id": "1efe6ccd-fcfe-4277-b435-1c5583441cd0",
   "metadata": {},
   "outputs": [],
   "source": [
    "# Convenient HTTP requests.\n",
    "import requests as rq\n",
    "\n",
    "# Regular expressions.\n",
    "import re\n",
    "\n",
    "# Dates and times.\n",
    "import datetime as dt\n",
    "\n",
    "# Data frames.\n",
    "import pandas as pd\n",
    "\n",
    "# For downloading.\n",
    "import urllib.request as urlrq\n",
    "\n",
    "# For loading PDFs into pandas\n",
    "import camelot"
   ]
  },
  {
   "cell_type": "code",
   "execution_count": 2,
   "id": "615d07e7-c3c3-4a9c-8534-04601cd6782b",
   "metadata": {},
   "outputs": [],
   "source": [
    "# Get the current date and time.\n",
    "now = dt.datetime.now()\n",
    "\n",
    "# Format as a string.\n",
    "nowstr = now.strftime('%Y%m%d_%H%M%S')"
   ]
  },
  {
   "cell_type": "markdown",
   "id": "fd168114-c993-46f0-8b04-c7126d50ba9e",
   "metadata": {},
   "source": [
    "<br>\n",
    "\n",
    "## 2021 Points\n",
    "\n",
    "Taken from [cao.ie](http://www2.cao.ie/points/l8.php)\n",
    "***"
   ]
  },
  {
   "cell_type": "code",
   "execution_count": 3,
   "id": "b496a38d-7319-4ef7-a0f8-bf32587c704a",
   "metadata": {},
   "outputs": [
    {
     "data": {
      "text/plain": [
       "<Response [200]>"
      ]
     },
     "execution_count": 3,
     "metadata": {},
     "output_type": "execute_result"
    }
   ],
   "source": [
    "# Fetch the CAO points URL.\n",
    "resp = rq.get('http://www2.cao.ie/points/l8.php')\n",
    "\n",
    "# Testing of we getting expected response (200 means OK).\n",
    "resp"
   ]
  },
  {
   "cell_type": "markdown",
   "id": "c893d3fe-1c4a-41a8-86a8-03e2f8f6475e",
   "metadata": {},
   "source": [
    "<br>\n",
    "\n",
    "## Save original data set\n",
    "***"
   ]
  },
  {
   "cell_type": "code",
   "execution_count": 4,
   "id": "3294126f-9ed2-477b-b0cb-aa70704b0d2b",
   "metadata": {},
   "outputs": [],
   "source": [
    "# Create a file path for the original data.\n",
    "pathhtml = 'data/cao2021_' + nowstr + '.html'"
   ]
  },
  {
   "cell_type": "markdown",
   "id": "429ec7f6-384d-4da0-a55a-e8d75ad83b44",
   "metadata": {},
   "source": [
    "### Fixing encoding error\n",
    "\n",
    "If we inspect the page in hte browser, server says we should decode as per:  \n",
    "\n",
    "```\n",
    "Content-Type: text/html; charset=iso-8859-1\n",
    "```\n",
    "     \n",
    "However, one line uses #x96 character which isn't defined in iso-8859-1.\n",
    "Therefore to fix this issue we going to use very similar standart cp1252,\n",
    "which includes #x96 character"
   ]
  },
  {
   "cell_type": "code",
   "execution_count": 5,
   "id": "871f26d4-3d4e-4166-ac46-2f1a1d775c9b",
   "metadata": {},
   "outputs": [],
   "source": [
    "# The server uses the wrong encoding, fix it.\n",
    "original_encoding = resp.encoding\n",
    "\n",
    "# Change to cp1252.\n",
    "resp.encoding = 'cp1252'"
   ]
  },
  {
   "cell_type": "code",
   "execution_count": 6,
   "id": "2268c96f-1b62-45ea-86ac-5bb6638351e7",
   "metadata": {},
   "outputs": [],
   "source": [
    "# Save the original html file.\n",
    "with open(pathhtml, 'w') as f:\n",
    "    f.write(resp.text)"
   ]
  },
  {
   "cell_type": "markdown",
   "id": "0b76f4b8-b073-4841-afb7-58fec16478d6",
   "metadata": {},
   "source": [
    "<br>\n",
    "\n",
    "## Loop through the lines of the response\n",
    "***"
   ]
  },
  {
   "cell_type": "code",
   "execution_count": 7,
   "id": "58fadf27-ea52-4479-9f8a-c9f91a717fda",
   "metadata": {},
   "outputs": [],
   "source": [
    "# The file path for the csv file.\n",
    "path2021 = 'data/cao2021_csv_' + nowstr + '.csv'"
   ]
  },
  {
   "cell_type": "code",
   "execution_count": 8,
   "id": "0a1a18ee-8efd-4744-890b-ef2eb538a08d",
   "metadata": {},
   "outputs": [
    {
     "name": "stdout",
     "output_type": "stream",
     "text": [
      "Total number of lines is 922.\n"
     ]
    }
   ],
   "source": [
    "# Using regular expression to select lines that we need.\n",
    "#re_course = re.compile(r'([A-Z]{2}[0-9]{3})(.*)')\n",
    "re_course = re.compile(r'([A-Z]{2}[0-9]{3})  (.*)([0-9]{3})(\\*?) *')\n",
    "no_lines = 0\n",
    "\n",
    "# Open the csv file for writing.\n",
    "with open(path2021, 'w') as f:\n",
    "    # Loop through the lines of the response content\n",
    "    for line in resp.iter_lines():\n",
    "        # Decode the line, using the wrong encoding!\n",
    "        dline = line.decode('cp1252')\n",
    "        # Match only the lines representing courses\n",
    "        if re_course.fullmatch(dline):\n",
    "            # Add one to the lines counter.\n",
    "            no_lines += 1\n",
    "            # Split the line on two or more spaces\n",
    "            linesplit = re.split('  +', dline)\n",
    "            # Rejoin the substrings with commas in between.\n",
    "            f.write(','.join(linesplit) + '\\n')\n",
    "            # Pick out relevant parts of the matched line\n",
    "            #csv_version = re_course.sub(r'\\1,\\2,\\3,\\4', dline)\n",
    "            #print(csv_version)\n",
    "print (f'Total number of lines is {no_lines}.')"
   ]
  },
  {
   "cell_type": "markdown",
   "id": "5f7e33f9-8360-44e2-8d9c-89509d4a5135",
   "metadata": {},
   "source": [
    "<br>\n",
    "\n",
    "## 2020 Points\n",
    "\n",
    "https://www.cao.ie/index.php?page=points&p=2020\n",
    "***"
   ]
  },
  {
   "cell_type": "markdown",
   "id": "9b2db36c-cf3a-4f51-a755-6d2a41bddb6c",
   "metadata": {},
   "source": [
    "<br>\n",
    "\n",
    "### Save Original File\n",
    "***"
   ]
  },
  {
   "cell_type": "code",
   "execution_count": 9,
   "id": "fa8f4be0-1119-4b8e-a488-fb04240f4785",
   "metadata": {},
   "outputs": [],
   "source": [
    "# URL to CAO points for 2020\n",
    "url2020 = 'http://www2.cao.ie/points/CAOPointsCharts2020.xlsx'"
   ]
  },
  {
   "cell_type": "code",
   "execution_count": 10,
   "id": "6b305814-e56a-4c38-849d-82c4423441cf",
   "metadata": {},
   "outputs": [
    {
     "data": {
      "text/plain": [
       "('data/cao2020_20211220_192927.xlsx',\n",
       " <http.client.HTTPMessage at 0x7ff0e89ee670>)"
      ]
     },
     "execution_count": 10,
     "metadata": {},
     "output_type": "execute_result"
    }
   ],
   "source": [
    "# Create a file path for the original data.\n",
    "pathxlsx = 'data/cao2020_' + nowstr + '.xlsx'\n",
    "\n",
    "# Save retrieved URL to the file\n",
    "urlrq.urlretrieve(url2020, pathxlsx)"
   ]
  },
  {
   "cell_type": "markdown",
   "id": "16b35fe4-b66d-41f6-b0b2-846320401ac1",
   "metadata": {},
   "source": [
    "<br>\n",
    "\n",
    "### Load Spreadsheet using pandas\n",
    "***"
   ]
  },
  {
   "cell_type": "code",
   "execution_count": 11,
   "id": "14bba089-204f-4204-bc43-4ccc9a7aea96",
   "metadata": {},
   "outputs": [],
   "source": [
    "# Download and parse the excel spreadsheet.\n",
    "df2020 = pd.read_excel(url2020, skiprows=10)"
   ]
  },
  {
   "cell_type": "code",
   "execution_count": 12,
   "id": "bed4e76d-b6ee-4829-891b-e3b759738a70",
   "metadata": {},
   "outputs": [
    {
     "data": {
      "text/html": [
       "<div>\n",
       "<style scoped>\n",
       "    .dataframe tbody tr th:only-of-type {\n",
       "        vertical-align: middle;\n",
       "    }\n",
       "\n",
       "    .dataframe tbody tr th {\n",
       "        vertical-align: top;\n",
       "    }\n",
       "\n",
       "    .dataframe thead th {\n",
       "        text-align: right;\n",
       "    }\n",
       "</style>\n",
       "<table border=\"1\" class=\"dataframe\">\n",
       "  <thead>\n",
       "    <tr style=\"text-align: right;\">\n",
       "      <th></th>\n",
       "      <th>CATEGORY (i.e.ISCED description)</th>\n",
       "      <th>COURSE TITLE</th>\n",
       "      <th>COURSE CODE2</th>\n",
       "      <th>R1 POINTS</th>\n",
       "      <th>R1 Random *</th>\n",
       "      <th>R2 POINTS</th>\n",
       "      <th>R2 Random*</th>\n",
       "      <th>EOS</th>\n",
       "      <th>EOS Random *</th>\n",
       "      <th>EOS Mid-point</th>\n",
       "      <th>...</th>\n",
       "      <th>avp</th>\n",
       "      <th>v</th>\n",
       "      <th>Column1</th>\n",
       "      <th>Column2</th>\n",
       "      <th>Column3</th>\n",
       "      <th>Column4</th>\n",
       "      <th>Column5</th>\n",
       "      <th>Column6</th>\n",
       "      <th>Column7</th>\n",
       "      <th>Column8</th>\n",
       "    </tr>\n",
       "  </thead>\n",
       "  <tbody>\n",
       "    <tr>\n",
       "      <th>0</th>\n",
       "      <td>Business and administration</td>\n",
       "      <td>International Business</td>\n",
       "      <td>AC120</td>\n",
       "      <td>209</td>\n",
       "      <td>NaN</td>\n",
       "      <td>NaN</td>\n",
       "      <td>NaN</td>\n",
       "      <td>209</td>\n",
       "      <td>NaN</td>\n",
       "      <td>280</td>\n",
       "      <td>...</td>\n",
       "      <td>NaN</td>\n",
       "      <td>NaN</td>\n",
       "      <td>NaN</td>\n",
       "      <td>NaN</td>\n",
       "      <td>NaN</td>\n",
       "      <td>NaN</td>\n",
       "      <td>NaN</td>\n",
       "      <td>NaN</td>\n",
       "      <td>NaN</td>\n",
       "      <td>NaN</td>\n",
       "    </tr>\n",
       "    <tr>\n",
       "      <th>1</th>\n",
       "      <td>Humanities (except languages)</td>\n",
       "      <td>Liberal Arts</td>\n",
       "      <td>AC137</td>\n",
       "      <td>252</td>\n",
       "      <td>NaN</td>\n",
       "      <td>NaN</td>\n",
       "      <td>NaN</td>\n",
       "      <td>252</td>\n",
       "      <td>NaN</td>\n",
       "      <td>270</td>\n",
       "      <td>...</td>\n",
       "      <td>NaN</td>\n",
       "      <td>NaN</td>\n",
       "      <td>NaN</td>\n",
       "      <td>NaN</td>\n",
       "      <td>NaN</td>\n",
       "      <td>NaN</td>\n",
       "      <td>NaN</td>\n",
       "      <td>NaN</td>\n",
       "      <td>NaN</td>\n",
       "      <td>NaN</td>\n",
       "    </tr>\n",
       "    <tr>\n",
       "      <th>2</th>\n",
       "      <td>Arts</td>\n",
       "      <td>First Year Art &amp; Design (Common Entry,portfolio)</td>\n",
       "      <td>AD101</td>\n",
       "      <td>#+matric</td>\n",
       "      <td>NaN</td>\n",
       "      <td>NaN</td>\n",
       "      <td>NaN</td>\n",
       "      <td>#+matric</td>\n",
       "      <td>NaN</td>\n",
       "      <td>#+matric</td>\n",
       "      <td>...</td>\n",
       "      <td>NaN</td>\n",
       "      <td>NaN</td>\n",
       "      <td>NaN</td>\n",
       "      <td>NaN</td>\n",
       "      <td>NaN</td>\n",
       "      <td>NaN</td>\n",
       "      <td>NaN</td>\n",
       "      <td>NaN</td>\n",
       "      <td>NaN</td>\n",
       "      <td>NaN</td>\n",
       "    </tr>\n",
       "    <tr>\n",
       "      <th>3</th>\n",
       "      <td>Arts</td>\n",
       "      <td>Graphic Design and Moving Image Design (portfo...</td>\n",
       "      <td>AD102</td>\n",
       "      <td>#+matric</td>\n",
       "      <td>NaN</td>\n",
       "      <td>NaN</td>\n",
       "      <td>NaN</td>\n",
       "      <td>#+matric</td>\n",
       "      <td>NaN</td>\n",
       "      <td>#+matric</td>\n",
       "      <td>...</td>\n",
       "      <td>NaN</td>\n",
       "      <td>NaN</td>\n",
       "      <td>NaN</td>\n",
       "      <td>NaN</td>\n",
       "      <td>NaN</td>\n",
       "      <td>NaN</td>\n",
       "      <td>NaN</td>\n",
       "      <td>NaN</td>\n",
       "      <td>NaN</td>\n",
       "      <td>NaN</td>\n",
       "    </tr>\n",
       "    <tr>\n",
       "      <th>4</th>\n",
       "      <td>Arts</td>\n",
       "      <td>Textile &amp; Surface Design and Jewellery &amp; Objec...</td>\n",
       "      <td>AD103</td>\n",
       "      <td>#+matric</td>\n",
       "      <td>NaN</td>\n",
       "      <td>NaN</td>\n",
       "      <td>NaN</td>\n",
       "      <td>#+matric</td>\n",
       "      <td>NaN</td>\n",
       "      <td>#+matric</td>\n",
       "      <td>...</td>\n",
       "      <td>NaN</td>\n",
       "      <td>NaN</td>\n",
       "      <td>NaN</td>\n",
       "      <td>NaN</td>\n",
       "      <td>NaN</td>\n",
       "      <td>NaN</td>\n",
       "      <td>NaN</td>\n",
       "      <td>NaN</td>\n",
       "      <td>NaN</td>\n",
       "      <td>NaN</td>\n",
       "    </tr>\n",
       "    <tr>\n",
       "      <th>...</th>\n",
       "      <td>...</td>\n",
       "      <td>...</td>\n",
       "      <td>...</td>\n",
       "      <td>...</td>\n",
       "      <td>...</td>\n",
       "      <td>...</td>\n",
       "      <td>...</td>\n",
       "      <td>...</td>\n",
       "      <td>...</td>\n",
       "      <td>...</td>\n",
       "      <td>...</td>\n",
       "      <td>...</td>\n",
       "      <td>...</td>\n",
       "      <td>...</td>\n",
       "      <td>...</td>\n",
       "      <td>...</td>\n",
       "      <td>...</td>\n",
       "      <td>...</td>\n",
       "      <td>...</td>\n",
       "      <td>...</td>\n",
       "      <td>...</td>\n",
       "    </tr>\n",
       "    <tr>\n",
       "      <th>1459</th>\n",
       "      <td>Manufacturing and processing</td>\n",
       "      <td>Manufacturing Engineering</td>\n",
       "      <td>WD208</td>\n",
       "      <td>188</td>\n",
       "      <td>NaN</td>\n",
       "      <td>NaN</td>\n",
       "      <td>NaN</td>\n",
       "      <td>188</td>\n",
       "      <td>NaN</td>\n",
       "      <td>339</td>\n",
       "      <td>...</td>\n",
       "      <td>NaN</td>\n",
       "      <td>NaN</td>\n",
       "      <td>NaN</td>\n",
       "      <td>NaN</td>\n",
       "      <td>NaN</td>\n",
       "      <td>NaN</td>\n",
       "      <td>NaN</td>\n",
       "      <td>NaN</td>\n",
       "      <td>NaN</td>\n",
       "      <td>NaN</td>\n",
       "    </tr>\n",
       "    <tr>\n",
       "      <th>1460</th>\n",
       "      <td>Information and Communication Technologies (ICTs)</td>\n",
       "      <td>Software Systems Development</td>\n",
       "      <td>WD210</td>\n",
       "      <td>279</td>\n",
       "      <td>NaN</td>\n",
       "      <td>NaN</td>\n",
       "      <td>NaN</td>\n",
       "      <td>279</td>\n",
       "      <td>NaN</td>\n",
       "      <td>337</td>\n",
       "      <td>...</td>\n",
       "      <td>NaN</td>\n",
       "      <td>NaN</td>\n",
       "      <td>NaN</td>\n",
       "      <td>NaN</td>\n",
       "      <td>NaN</td>\n",
       "      <td>NaN</td>\n",
       "      <td>NaN</td>\n",
       "      <td>NaN</td>\n",
       "      <td>NaN</td>\n",
       "      <td>NaN</td>\n",
       "    </tr>\n",
       "    <tr>\n",
       "      <th>1461</th>\n",
       "      <td>Information and Communication Technologies (ICTs)</td>\n",
       "      <td>Creative Computing</td>\n",
       "      <td>WD211</td>\n",
       "      <td>271</td>\n",
       "      <td>NaN</td>\n",
       "      <td>NaN</td>\n",
       "      <td>NaN</td>\n",
       "      <td>271</td>\n",
       "      <td>NaN</td>\n",
       "      <td>318</td>\n",
       "      <td>...</td>\n",
       "      <td>NaN</td>\n",
       "      <td>NaN</td>\n",
       "      <td>NaN</td>\n",
       "      <td>NaN</td>\n",
       "      <td>NaN</td>\n",
       "      <td>NaN</td>\n",
       "      <td>NaN</td>\n",
       "      <td>NaN</td>\n",
       "      <td>NaN</td>\n",
       "      <td>NaN</td>\n",
       "    </tr>\n",
       "    <tr>\n",
       "      <th>1462</th>\n",
       "      <td>Personal services</td>\n",
       "      <td>Recreation and Sport Management</td>\n",
       "      <td>WD212</td>\n",
       "      <td>270</td>\n",
       "      <td>NaN</td>\n",
       "      <td>NaN</td>\n",
       "      <td>NaN</td>\n",
       "      <td>270</td>\n",
       "      <td>NaN</td>\n",
       "      <td>349</td>\n",
       "      <td>...</td>\n",
       "      <td>NaN</td>\n",
       "      <td>NaN</td>\n",
       "      <td>NaN</td>\n",
       "      <td>NaN</td>\n",
       "      <td>NaN</td>\n",
       "      <td>NaN</td>\n",
       "      <td>NaN</td>\n",
       "      <td>NaN</td>\n",
       "      <td>NaN</td>\n",
       "      <td>NaN</td>\n",
       "    </tr>\n",
       "    <tr>\n",
       "      <th>1463</th>\n",
       "      <td>Engineering and engineering trades</td>\n",
       "      <td>Mechanical and Manufacturing Engineering</td>\n",
       "      <td>WD230</td>\n",
       "      <td>253</td>\n",
       "      <td>NaN</td>\n",
       "      <td>NaN</td>\n",
       "      <td>NaN</td>\n",
       "      <td>253</td>\n",
       "      <td>NaN</td>\n",
       "      <td>369</td>\n",
       "      <td>...</td>\n",
       "      <td>NaN</td>\n",
       "      <td>NaN</td>\n",
       "      <td>NaN</td>\n",
       "      <td>NaN</td>\n",
       "      <td>NaN</td>\n",
       "      <td>NaN</td>\n",
       "      <td>NaN</td>\n",
       "      <td>NaN</td>\n",
       "      <td>NaN</td>\n",
       "      <td>NaN</td>\n",
       "    </tr>\n",
       "  </tbody>\n",
       "</table>\n",
       "<p>1464 rows × 23 columns</p>\n",
       "</div>"
      ],
      "text/plain": [
       "                       CATEGORY (i.e.ISCED description)  \\\n",
       "0                           Business and administration   \n",
       "1                         Humanities (except languages)   \n",
       "2                                                  Arts   \n",
       "3                                                  Arts   \n",
       "4                                                  Arts   \n",
       "...                                                 ...   \n",
       "1459                       Manufacturing and processing   \n",
       "1460  Information and Communication Technologies (ICTs)   \n",
       "1461  Information and Communication Technologies (ICTs)   \n",
       "1462                                  Personal services   \n",
       "1463                 Engineering and engineering trades   \n",
       "\n",
       "                                           COURSE TITLE COURSE CODE2  \\\n",
       "0                                International Business        AC120   \n",
       "1                                          Liberal Arts        AC137   \n",
       "2      First Year Art & Design (Common Entry,portfolio)        AD101   \n",
       "3     Graphic Design and Moving Image Design (portfo...        AD102   \n",
       "4     Textile & Surface Design and Jewellery & Objec...        AD103   \n",
       "...                                                 ...          ...   \n",
       "1459                          Manufacturing Engineering        WD208   \n",
       "1460                       Software Systems Development        WD210   \n",
       "1461                                 Creative Computing        WD211   \n",
       "1462                    Recreation and Sport Management        WD212   \n",
       "1463           Mechanical and Manufacturing Engineering        WD230   \n",
       "\n",
       "     R1 POINTS R1 Random * R2 POINTS R2 Random*       EOS EOS Random *  \\\n",
       "0          209         NaN       NaN        NaN       209          NaN   \n",
       "1          252         NaN       NaN        NaN       252          NaN   \n",
       "2     #+matric         NaN       NaN        NaN  #+matric          NaN   \n",
       "3     #+matric         NaN       NaN        NaN  #+matric          NaN   \n",
       "4     #+matric         NaN       NaN        NaN  #+matric          NaN   \n",
       "...        ...         ...       ...        ...       ...          ...   \n",
       "1459       188         NaN       NaN        NaN       188          NaN   \n",
       "1460       279         NaN       NaN        NaN       279          NaN   \n",
       "1461       271         NaN       NaN        NaN       271          NaN   \n",
       "1462       270         NaN       NaN        NaN       270          NaN   \n",
       "1463       253         NaN       NaN        NaN       253          NaN   \n",
       "\n",
       "     EOS Mid-point  ...  avp    v Column1 Column2 Column3  Column4  Column5  \\\n",
       "0              280  ...  NaN  NaN     NaN     NaN     NaN      NaN      NaN   \n",
       "1              270  ...  NaN  NaN     NaN     NaN     NaN      NaN      NaN   \n",
       "2         #+matric  ...  NaN  NaN     NaN     NaN     NaN      NaN      NaN   \n",
       "3         #+matric  ...  NaN  NaN     NaN     NaN     NaN      NaN      NaN   \n",
       "4         #+matric  ...  NaN  NaN     NaN     NaN     NaN      NaN      NaN   \n",
       "...            ...  ...  ...  ...     ...     ...     ...      ...      ...   \n",
       "1459           339  ...  NaN  NaN     NaN     NaN     NaN      NaN      NaN   \n",
       "1460           337  ...  NaN  NaN     NaN     NaN     NaN      NaN      NaN   \n",
       "1461           318  ...  NaN  NaN     NaN     NaN     NaN      NaN      NaN   \n",
       "1462           349  ...  NaN  NaN     NaN     NaN     NaN      NaN      NaN   \n",
       "1463           369  ...  NaN  NaN     NaN     NaN     NaN      NaN      NaN   \n",
       "\n",
       "      Column6  Column7  Column8  \n",
       "0         NaN      NaN      NaN  \n",
       "1         NaN      NaN      NaN  \n",
       "2         NaN      NaN      NaN  \n",
       "3         NaN      NaN      NaN  \n",
       "4         NaN      NaN      NaN  \n",
       "...       ...      ...      ...  \n",
       "1459      NaN      NaN      NaN  \n",
       "1460      NaN      NaN      NaN  \n",
       "1461      NaN      NaN      NaN  \n",
       "1462      NaN      NaN      NaN  \n",
       "1463      NaN      NaN      NaN  \n",
       "\n",
       "[1464 rows x 23 columns]"
      ]
     },
     "execution_count": 12,
     "metadata": {},
     "output_type": "execute_result"
    }
   ],
   "source": [
    "df2020"
   ]
  },
  {
   "cell_type": "code",
   "execution_count": 13,
   "id": "261fcd39-aec2-4286-bfb1-1807d39d6ad0",
   "metadata": {},
   "outputs": [
    {
     "data": {
      "text/plain": [
       "CATEGORY (i.e.ISCED description)          Engineering and engineering trades\n",
       "COURSE TITLE                        Road Transport Technology and Management\n",
       "COURSE CODE2                                                           LC286\n",
       "R1 POINTS                                                                264\n",
       "R1 Random *                                                              NaN\n",
       "R2 POINTS                                                                NaN\n",
       "R2 Random*                                                               NaN\n",
       "EOS                                                                      264\n",
       "EOS Random *                                                             NaN\n",
       "EOS Mid-point                                                            360\n",
       "LEVEL                                                                      7\n",
       "HEI                                         Limerick Institute of Technology\n",
       "Test/Interview #                                                         NaN\n",
       "avp                                                                      NaN\n",
       "v                                                                        NaN\n",
       "Column1                                                                  NaN\n",
       "Column2                                                                  NaN\n",
       "Column3                                                                  NaN\n",
       "Column4                                                                  NaN\n",
       "Column5                                                                  NaN\n",
       "Column6                                                                  NaN\n",
       "Column7                                                                  NaN\n",
       "Column8                                                                  NaN\n",
       "Name: 753, dtype: object"
      ]
     },
     "execution_count": 13,
     "metadata": {},
     "output_type": "execute_result"
    }
   ],
   "source": [
    "# Spot check a random row.\n",
    "df2020.iloc[753]"
   ]
  },
  {
   "cell_type": "code",
   "execution_count": 14,
   "id": "8cc1ad67-0a20-4fb3-a551-0c32a96b85bb",
   "metadata": {},
   "outputs": [
    {
     "data": {
      "text/plain": [
       "CATEGORY (i.e.ISCED description)          Engineering and engineering trades\n",
       "COURSE TITLE                        Mechanical and Manufacturing Engineering\n",
       "COURSE CODE2                                                           WD230\n",
       "R1 POINTS                                                                253\n",
       "R1 Random *                                                              NaN\n",
       "R2 POINTS                                                                NaN\n",
       "R2 Random*                                                               NaN\n",
       "EOS                                                                      253\n",
       "EOS Random *                                                             NaN\n",
       "EOS Mid-point                                                            369\n",
       "LEVEL                                                                      8\n",
       "HEI                                        Waterford Institute of Technology\n",
       "Test/Interview #                                                         NaN\n",
       "avp                                                                      NaN\n",
       "v                                                                        NaN\n",
       "Column1                                                                  NaN\n",
       "Column2                                                                  NaN\n",
       "Column3                                                                  NaN\n",
       "Column4                                                                  NaN\n",
       "Column5                                                                  NaN\n",
       "Column6                                                                  NaN\n",
       "Column7                                                                  NaN\n",
       "Column8                                                                  NaN\n",
       "Name: 1463, dtype: object"
      ]
     },
     "execution_count": 14,
     "metadata": {},
     "output_type": "execute_result"
    }
   ],
   "source": [
    "# Spot check the last row.\n",
    "df2020.iloc[-1]"
   ]
  },
  {
   "cell_type": "code",
   "execution_count": 15,
   "id": "e6176f5a-11ee-41e1-85d2-6ad0e44672bb",
   "metadata": {},
   "outputs": [],
   "source": [
    "# Create a file path for the pandas data.\n",
    "path2020 = 'data/cao2020_' + nowstr + '.csv'\n",
    "\n",
    "# Save pandas data frame to disk.\n",
    "df2020.to_csv(path2020)"
   ]
  },
  {
   "cell_type": "markdown",
   "id": "52b9c651-248a-44bb-abb5-5e3127c291a5",
   "metadata": {},
   "source": [
    "<br>\n",
    "\n",
    "## 2019 Points\n",
    "\n",
    "https://www.cao.ie/index.php?page=points&p=2019\n",
    "***"
   ]
  },
  {
   "cell_type": "code",
   "execution_count": 16,
   "id": "49a0b337-1141-4a59-a95c-0454aac694f4",
   "metadata": {},
   "outputs": [],
   "source": [
    "tables = camelot.read_pdf('data/cao2019.pdf')"
   ]
  },
  {
   "cell_type": "code",
   "execution_count": 17,
   "id": "de948485-40ca-47a3-8ae0-d54416f2bc61",
   "metadata": {},
   "outputs": [
    {
     "data": {
      "text/plain": [
       "<TableList n=1>"
      ]
     },
     "execution_count": 17,
     "metadata": {},
     "output_type": "execute_result"
    }
   ],
   "source": [
    "tables"
   ]
  },
  {
   "cell_type": "code",
   "execution_count": 18,
   "id": "038bf41f-a0d1-48e0-a248-d4efdf7fcacd",
   "metadata": {},
   "outputs": [],
   "source": [
    "tables.export('data/cao2019.csv', f='csv', compress=True)"
   ]
  },
  {
   "cell_type": "code",
   "execution_count": 19,
   "id": "ce7053f7-10d7-4fe0-ab5e-82ebb5ee2b70",
   "metadata": {},
   "outputs": [
    {
     "data": {
      "text/plain": [
       "<Table shape=(44, 4)>"
      ]
     },
     "execution_count": 19,
     "metadata": {},
     "output_type": "execute_result"
    }
   ],
   "source": [
    "tables[0]"
   ]
  },
  {
   "cell_type": "code",
   "execution_count": 20,
   "id": "617ff4e8-c29b-4f6c-aebc-e4eaeb589bcf",
   "metadata": {},
   "outputs": [
    {
     "data": {
      "text/plain": [
       "{'accuracy': 99.61, 'whitespace': 3.98, 'order': 1, 'page': 1}"
      ]
     },
     "execution_count": 20,
     "metadata": {},
     "output_type": "execute_result"
    }
   ],
   "source": [
    "tables[0].parsing_report"
   ]
  },
  {
   "cell_type": "code",
   "execution_count": 21,
   "id": "36181b77-83c9-4ea4-b1b8-58f498d49d46",
   "metadata": {},
   "outputs": [],
   "source": [
    "tables[0].to_csv('data/cao2019_' + nowstr + '.csv')"
   ]
  },
  {
   "cell_type": "code",
   "execution_count": 23,
   "id": "85e0d384-a870-48cc-bfb7-3f19e744f787",
   "metadata": {},
   "outputs": [],
   "source": [
    "tables.export('data/cao2019_' + nowstr + '.csv', f='csv')"
   ]
  },
  {
   "cell_type": "code",
   "execution_count": 25,
   "id": "c2207ea6-656a-4fae-b3cd-6a90a6d6be16",
   "metadata": {},
   "outputs": [
    {
     "ename": "TypeError",
     "evalue": "export() got an unexpected keyword argument 'pages'",
     "output_type": "error",
     "traceback": [
      "\u001b[0;31m---------------------------------------------------------------------------\u001b[0m",
      "\u001b[0;31mTypeError\u001b[0m                                 Traceback (most recent call last)",
      "\u001b[0;32m/var/folders/r1/w5vc1f3s7pz3sdvf250n5qtm0000gn/T/ipykernel_14697/1268665336.py\u001b[0m in \u001b[0;36m<module>\u001b[0;34m\u001b[0m\n\u001b[0;32m----> 1\u001b[0;31m \u001b[0mtables\u001b[0m\u001b[0;34m.\u001b[0m\u001b[0mexport\u001b[0m\u001b[0;34m(\u001b[0m\u001b[0;34m'data/cao2019_test.csv'\u001b[0m\u001b[0;34m,\u001b[0m \u001b[0mf\u001b[0m\u001b[0;34m=\u001b[0m\u001b[0;34m'csv'\u001b[0m\u001b[0;34m,\u001b[0m \u001b[0mpages\u001b[0m\u001b[0;34m=\u001b[0m\u001b[0;34m'1-end'\u001b[0m\u001b[0;34m)\u001b[0m\u001b[0;34m\u001b[0m\u001b[0;34m\u001b[0m\u001b[0m\n\u001b[0m",
      "\u001b[0;31mTypeError\u001b[0m: export() got an unexpected keyword argument 'pages'"
     ]
    }
   ],
   "source": [
    "tables.export('data/cao2019_test.csv', f='csv', pages='1-end')"
   ]
  },
  {
   "cell_type": "code",
   "execution_count": 26,
   "id": "5e201950-2c34-4d84-82dc-f20b3a93dba8",
   "metadata": {},
   "outputs": [],
   "source": [
    "cao_tables = camelot.read_pdf('data/cao2019.pdf', pages='1-end')"
   ]
  },
  {
   "cell_type": "code",
   "execution_count": 27,
   "id": "d8be0ec0-51a1-4f5d-977b-f22f2d9e4324",
   "metadata": {},
   "outputs": [
    {
     "data": {
      "text/plain": [
       "<TableList n=18>"
      ]
     },
     "execution_count": 27,
     "metadata": {},
     "output_type": "execute_result"
    }
   ],
   "source": [
    "cao_tables"
   ]
  },
  {
   "cell_type": "code",
   "execution_count": 28,
   "id": "70e30746-2689-4a1b-bc91-e00526db5496",
   "metadata": {},
   "outputs": [],
   "source": [
    "cao_tables.export('data/cao2019_' + nowstr + '.csv', f='csv')"
   ]
  },
  {
   "cell_type": "code",
   "execution_count": 51,
   "id": "5efe4cbb-0637-4378-ac77-b19fe9f0c9e6",
   "metadata": {},
   "outputs": [
    {
     "data": {
      "text/html": [
       "<div>\n",
       "<style scoped>\n",
       "    .dataframe tbody tr th:only-of-type {\n",
       "        vertical-align: middle;\n",
       "    }\n",
       "\n",
       "    .dataframe tbody tr th {\n",
       "        vertical-align: top;\n",
       "    }\n",
       "\n",
       "    .dataframe thead th {\n",
       "        text-align: right;\n",
       "    }\n",
       "</style>\n",
       "<table border=\"1\" class=\"dataframe\">\n",
       "  <thead>\n",
       "    <tr style=\"text-align: right;\">\n",
       "      <th></th>\n",
       "      <th>0</th>\n",
       "      <th>1</th>\n",
       "      <th>2</th>\n",
       "      <th>3</th>\n",
       "    </tr>\n",
       "  </thead>\n",
       "  <tbody>\n",
       "    <tr>\n",
       "      <th>0</th>\n",
       "      <td>Course Code INSTITUTION and COURSE</td>\n",
       "      <td></td>\n",
       "      <td>EOS</td>\n",
       "      <td>Mid</td>\n",
       "    </tr>\n",
       "    <tr>\n",
       "      <th>1</th>\n",
       "      <td></td>\n",
       "      <td>Athlone Institute of Technology</td>\n",
       "      <td></td>\n",
       "      <td></td>\n",
       "    </tr>\n",
       "    <tr>\n",
       "      <th>2</th>\n",
       "      <td>AL801</td>\n",
       "      <td>Software Design with Virtual Reality and Gaming</td>\n",
       "      <td>304</td>\n",
       "      <td>328</td>\n",
       "    </tr>\n",
       "    <tr>\n",
       "      <th>3</th>\n",
       "      <td>AL802</td>\n",
       "      <td>Software Design with Cloud Computing</td>\n",
       "      <td>301</td>\n",
       "      <td>306</td>\n",
       "    </tr>\n",
       "    <tr>\n",
       "      <th>4</th>\n",
       "      <td>AL803</td>\n",
       "      <td>Software Design with Mobile Apps and Connected...</td>\n",
       "      <td>309</td>\n",
       "      <td>337</td>\n",
       "    </tr>\n",
       "    <tr>\n",
       "      <th>...</th>\n",
       "      <td>...</td>\n",
       "      <td>...</td>\n",
       "      <td>...</td>\n",
       "      <td>...</td>\n",
       "    </tr>\n",
       "    <tr>\n",
       "      <th>37</th>\n",
       "      <td>WD200</td>\n",
       "      <td>Arts (options)</td>\n",
       "      <td>221</td>\n",
       "      <td>296</td>\n",
       "    </tr>\n",
       "    <tr>\n",
       "      <th>38</th>\n",
       "      <td>WD210</td>\n",
       "      <td>Software Systems Development</td>\n",
       "      <td>271</td>\n",
       "      <td>329</td>\n",
       "    </tr>\n",
       "    <tr>\n",
       "      <th>39</th>\n",
       "      <td>WD211</td>\n",
       "      <td>Creative Computing</td>\n",
       "      <td>275</td>\n",
       "      <td>322</td>\n",
       "    </tr>\n",
       "    <tr>\n",
       "      <th>40</th>\n",
       "      <td>WD212</td>\n",
       "      <td>Recreation and Sport Management</td>\n",
       "      <td>274</td>\n",
       "      <td>311</td>\n",
       "    </tr>\n",
       "    <tr>\n",
       "      <th>41</th>\n",
       "      <td>WD230</td>\n",
       "      <td>Mechanical and Manufacturing Engineering</td>\n",
       "      <td>273</td>\n",
       "      <td>348</td>\n",
       "    </tr>\n",
       "  </tbody>\n",
       "</table>\n",
       "<p>966 rows × 4 columns</p>\n",
       "</div>"
      ],
      "text/plain": [
       "                                     0  \\\n",
       "0   Course Code INSTITUTION and COURSE   \n",
       "1                                        \n",
       "2                                AL801   \n",
       "3                                AL802   \n",
       "4                                AL803   \n",
       "..                                 ...   \n",
       "37                               WD200   \n",
       "38                               WD210   \n",
       "39                               WD211   \n",
       "40                               WD212   \n",
       "41                               WD230   \n",
       "\n",
       "                                                    1    2    3  \n",
       "0                                                      EOS  Mid  \n",
       "1                     Athlone Institute of Technology            \n",
       "2     Software Design with Virtual Reality and Gaming  304  328  \n",
       "3                Software Design with Cloud Computing  301  306  \n",
       "4   Software Design with Mobile Apps and Connected...  309  337  \n",
       "..                                                ...  ...  ...  \n",
       "37                                     Arts (options)  221  296  \n",
       "38                       Software Systems Development  271  329  \n",
       "39                                 Creative Computing  275  322  \n",
       "40                    Recreation and Sport Management  274  311  \n",
       "41           Mechanical and Manufacturing Engineering  273  348  \n",
       "\n",
       "[966 rows x 4 columns]"
      ]
     },
     "execution_count": 51,
     "metadata": {},
     "output_type": "execute_result"
    }
   ],
   "source": [
    "comb_df = pd.DataFrame()\n",
    "i=0\n",
    "for table in cao_tables:\n",
    "    df = cao_tables[i].df\n",
    "    i=i + 1\n",
    "    comb_df = comb_df.append(df)\n",
    "comb_df"
   ]
  },
  {
   "cell_type": "code",
   "execution_count": 52,
   "id": "b7de1b56-aab4-4c2b-870f-d52bf9c55660",
   "metadata": {},
   "outputs": [],
   "source": [
    "comb_df.to_csv('data/TEST.csv')"
   ]
  },
  {
   "cell_type": "code",
   "execution_count": null,
   "id": "b32b0947-7f7d-4fbf-9388-1530d5040c1e",
   "metadata": {},
   "outputs": [
    {
     "data": {
      "text/html": [
       "<div>\n",
       "<style scoped>\n",
       "    .dataframe tbody tr th:only-of-type {\n",
       "        vertical-align: middle;\n",
       "    }\n",
       "\n",
       "    .dataframe tbody tr th {\n",
       "        vertical-align: top;\n",
       "    }\n",
       "\n",
       "    .dataframe thead th {\n",
       "        text-align: right;\n",
       "    }\n",
       "</style>\n",
       "<table border=\"1\" class=\"dataframe\">\n",
       "  <thead>\n",
       "    <tr style=\"text-align: right;\">\n",
       "      <th></th>\n",
       "    </tr>\n",
       "  </thead>\n",
       "  <tbody>\n",
       "  </tbody>\n",
       "</table>\n",
       "</div>"
      ],
      "text/plain": [
       "Empty DataFrame\n",
       "Columns: []\n",
       "Index: []"
      ]
     },
     "execution_count": 48,
     "metadata": {},
     "output_type": "execute_result"
    }
   ],
   "source": []
  },
  {
   "cell_type": "code",
   "execution_count": null,
   "id": "b8f1f428-35b4-4cec-a1ce-d30cabbe769e",
   "metadata": {},
   "outputs": [],
   "source": []
  },
  {
   "cell_type": "code",
   "execution_count": null,
   "id": "9377d2ad-4587-4dc0-801c-1cfb7e19f8c5",
   "metadata": {},
   "outputs": [],
   "source": []
  },
  {
   "cell_type": "code",
   "execution_count": null,
   "id": "93a0d606-d779-40ec-9fec-12a5cc8fe37f",
   "metadata": {},
   "outputs": [],
   "source": []
  },
  {
   "cell_type": "code",
   "execution_count": null,
   "id": "136caf62-9488-4d1c-af2b-0086204fc872",
   "metadata": {},
   "outputs": [],
   "source": []
  },
  {
   "cell_type": "code",
   "execution_count": null,
   "id": "3e5c50e7-d3dd-47b3-a7c2-10ba15f2a13c",
   "metadata": {},
   "outputs": [],
   "source": []
  }
 ],
 "metadata": {
  "kernelspec": {
   "display_name": "Python 3 (ipykernel)",
   "language": "python",
   "name": "python3"
  },
  "language_info": {
   "codemirror_mode": {
    "name": "ipython",
    "version": 3
   },
   "file_extension": ".py",
   "mimetype": "text/x-python",
   "name": "python",
   "nbconvert_exporter": "python",
   "pygments_lexer": "ipython3",
   "version": "3.8.12"
  }
 },
 "nbformat": 4,
 "nbformat_minor": 5
}
